{
 "cells": [
  {
   "cell_type": "code",
   "execution_count": 41,
   "metadata": {},
   "outputs": [
    {
     "name": "stdout",
     "output_type": "stream",
     "text": [
      "Populating the interactive namespace from numpy and matplotlib\n"
     ]
    },
    {
     "name": "stderr",
     "output_type": "stream",
     "text": [
      "/Library/Frameworks/Python.framework/Versions/3.7/lib/python3.7/site-packages/IPython/core/magics/pylab.py:160: UserWarning: pylab import has clobbered these variables: ['diag']\n",
      "`%matplotlib` prevents importing * from pylab and numpy\n",
      "  \"\\n`%matplotlib` prevents importing * from pylab and numpy\"\n"
     ]
    }
   ],
   "source": [
    "%pylab inline\n",
    "from bioinf_utils import *"
   ]
  },
  {
   "cell_type": "code",
   "execution_count": 54,
   "metadata": {},
   "outputs": [],
   "source": [
    "'''\n",
    "def readSeq(filename):\n",
    "    \"\"\"Reads in a FASTA sequence. Assumes one sequence in the file\"\"\"\n",
    "    seq = []\n",
    "\n",
    "    with open(filename, \"r\") as f:\n",
    "        for line in f:\n",
    "            if line.startswith(\">\"):\n",
    "                continue\n",
    "            seq.append(line.rstrip().upper())\n",
    "\n",
    "    return \"\".join(seq)\n",
    "'''\n",
    "\n",
    "'''seq1 = np.array(list(readSeq('./PS1_code/human_HoxA13.fa')))\n",
    "seq2 = np.array(list(readSeq('./PS1_code/mouse_HoxA13.fa')))\n",
    "'''"
   ]
  },
  {
   "cell_type": "code",
   "execution_count": 42,
   "metadata": {},
   "outputs": [],
   "source": [
    "PTR_NONE, PTR_GAP1, PTR_GAP2, PTR_BASE = 0, 1, 2, 3\n",
    "\n",
    "base_idx = {'A': 0, 'G': 1, 'C': 2, 'T': 3 }\n",
    "\n",
    "# Substituation matrix and gap_penalty\n",
    "S = [\n",
    "    # A   G   C   T\n",
    "    [ 3, -1, -2, -2],  # A\n",
    "    [-1,  3, -2, -2],  # G\n",
    "    [-2, -2,  3, -1],  # C\n",
    "    [-2, -2, -1,  3]   # T\n",
    "]\n",
    "\n",
    "S = np.array(S)\n",
    "gap_penalty = 4"
   ]
  },
  {
   "cell_type": "code",
   "execution_count": 68,
   "metadata": {},
   "outputs": [
    {
     "name": "stdout",
     "output_type": "stream",
     "text": [
      "TACGCAG\n",
      "AGCTG\n"
     ]
    }
   ],
   "source": [
    "#seq1, seq2 = gen_dels(gen_seqs(100, .3), 15, 3)\n",
    "seq1 = 'TACGCAG'\n",
    "seq2 = 'AGCTG'\n",
    "print(''.join(seq1))\n",
    "print(''.join(seq2))"
   ]
  },
  {
   "cell_type": "code",
   "execution_count": 58,
   "metadata": {},
   "outputs": [
    {
     "data": {
      "text/plain": [
       "<matplotlib.image.AxesImage at 0x120c639e8>"
      ]
     },
     "execution_count": 58,
     "metadata": {},
     "output_type": "execute_result"
    },
    {
     "data": {
      "image/png": "[encoded data removed]",
      "text/plain": [
       "<Figure size 432x288 with 1 Axes>"
      ]
     },
     "metadata": {
      "needs_background": "light"
     },
     "output_type": "display_data"
    }
   ],
   "source": [
    "F = np.zeros((len(seq1)+1, len(seq2)+1))\n",
    "TB = np.zeros((len(seq1)+1, len(seq2)+1))\n",
    "\n",
    "F[0,0] = 0\n",
    "\n",
    "for i, row in enumerate(F):\n",
    "    for j, col in enumerate(row):\n",
    "        \n",
    "        #Edge cases:\n",
    "        if i == 0 and j == 0:\n",
    "            F[i,j] = 0\n",
    "        \n",
    "        elif i == 0 and j != 0:\n",
    "            F[i,j] = 0 - (j*gap_penalty)\n",
    "            TB[0,j] = PTR_GAP2  # indicates a gap in seq1\n",
    "            \n",
    "        elif i != 0 and j == 0:\n",
    "            F[i,j] = 0-(i*gap_penalty)\n",
    "            TB[i,0] = PTR_GAP1  # indicates a gap in seq2\n",
    "        \n",
    "        else:\n",
    "            idx = i-1\n",
    "            jdx = j-1\n",
    "            \n",
    "            i_base = seq1[idx]\n",
    "            i_base_idx = base_idx[i_base]\n",
    "            j_base = seq2[jdx]\n",
    "            j_base_idx = base_idx[j_base]\n",
    "            \n",
    "            i_gap = F[idx-1,jdx]-gap_penalty #Vertical - gap in seq1\n",
    "            j_gap = F[idx, jdx-1]-gap_penalty #Horizontal - gap in seq2\n",
    "            diag = F[idx-1,jdx-1]+S[i_base_idx, j_base_idx]\n",
    "            \n",
    "            best = max([(i_gap, PTR_GAP1), (j_gap, PTR_GAP2), (diag, PTR_BASE)])\n",
    "            #print([i_gap, j_gap, horiz])\n",
    "            \n",
    "            #print(i,j)\n",
    "            F[i,j] = best[0]\n",
    "            TB[i,j] = best[1]\n",
    "            \n",
    "            #print(i_base, j_base)\n",
    "            \n",
    "plt.imshow(F)"
   ]
  },
  {
   "cell_type": "code",
   "execution_count": 59,
   "metadata": {},
   "outputs": [
    {
     "data": {
      "text/plain": [
       "<matplotlib.image.AxesImage at 0x120cf3e10>"
      ]
     },
     "execution_count": 59,
     "metadata": {},
     "output_type": "execute_result"
    },
    {
     "data": {
      "image/png": "[encoded data removed]",
      "text/plain": [
       "<Figure size 432x288 with 1 Axes>"
      ]
     },
     "metadata": {
      "needs_background": "light"
     },
     "output_type": "display_data"
    }
   ],
   "source": [
    "plt.imshow(TB)"
   ]
  },
  {
   "cell_type": "code",
   "execution_count": 66,
   "metadata": {},
   "outputs": [],
   "source": [
    "#mathew\n",
    "def traceback(seq1, seq2, TB):\n",
    "    movement_map = dict(zip([0, 1, 2, 3],['end', (-1,0), (0,-1), (-1,-1)]))\n",
    "\n",
    "    i,j = np.array(TB.shape)-1\n",
    "\n",
    "    s1 = ''\n",
    "    s2 = ''\n",
    "\n",
    "    while movement_map[TB[i,j]] != 'end':\n",
    "        hop = movement_map[TB[i,j]]\n",
    "        if hop==(0,-1): #Move up - Gap in 2\n",
    "            s1 = '-'+s1\n",
    "            s2 = seq2[j-1]+s2\n",
    "        \n",
    "        elif hop == (-1,0): #Move left - Gap in 1\n",
    "            s1 = seq1[i-1]+s1\n",
    "            s2 = '-'+s2\n",
    "        \n",
    "        elif hop == (-1,-1):\n",
    "            s1 = seq1[i-1]+s1\n",
    "            s2 = seq2[j-1]+s2\n",
    "\n",
    "        dr, dc = hop\n",
    "        i += dr\n",
    "        j += dc\n",
    "\n",
    "\n",
    "    return (s1, s2)"
   ]
  },
  {
   "cell_type": "code",
   "execution_count": 67,
   "metadata": {},
   "outputs": [
    {
     "data": {
      "text/plain": [
       "('TACGCAG', '--AGCTG')"
      ]
     },
     "execution_count": 67,
     "metadata": {},
     "output_type": "execute_result"
    }
   ],
   "source": [
    "traceback(seq1, seq2, TB)"
   ]
  },
  {
   "cell_type": "code",
   "execution_count": null,
   "metadata": {},
   "outputs": [],
   "source": []
  },
  {
   "cell_type": "code",
   "execution_count": null,
   "metadata": {},
   "outputs": [],
   "source": []
  },
  {
   "cell_type": "code",
   "execution_count": null,
   "metadata": {},
   "outputs": [],
   "source": []
  }
 ],
 "metadata": {
  "kernelspec": {
   "display_name": "Python 3",
   "language": "python",
   "name": "python3"
  },
  "language_info": {
   "codemirror_mode": {
    "name": "ipython",
    "version": 3
   },
   "file_extension": ".py",
   "mimetype": "text/x-python",
   "name": "python",
   "nbconvert_exporter": "python",
   "pygments_lexer": "ipython3",
   "version": "3.6.7"
  }
 },
 "nbformat": 4,
 "nbformat_minor": 4
}
