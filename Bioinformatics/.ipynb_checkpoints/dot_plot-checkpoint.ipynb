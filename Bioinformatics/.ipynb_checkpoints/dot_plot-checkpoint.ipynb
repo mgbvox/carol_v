{
 "cells": [
  {
   "cell_type": "code",
   "execution_count": 1,
   "metadata": {},
   "outputs": [
    {
     "name": "stdout",
     "output_type": "stream",
     "text": [
      "Populating the interactive namespace from numpy and matplotlib\n"
     ]
    }
   ],
   "source": [
    "'''Jupyter Imports'''\n",
    "%pylab inline\n",
    "import os\n",
    "from tqdm import tqdm\n",
    "\n",
    "\n",
    "import sys\n",
    "from collections import defaultdict"
   ]
  },
  {
   "cell_type": "code",
   "execution_count": 6,
   "metadata": {},
   "outputs": [],
   "source": [
    "def readSeq(filename):\n",
    "    \"\"\"reads in a FASTA sequence\"\"\"\n",
    "\n",
    "    stream = open(filename)\n",
    "    seq = []\n",
    "\n",
    "    for line in stream:\n",
    "        if line.startswith(\">\"):\n",
    "            continue\n",
    "        seq.append(line.rstrip())\n",
    "\n",
    "    return \"\".join(seq)\n",
    "\n",
    "def quality(hits, slope1, slope2, offset1, offset2):\n",
    "    \"\"\"determines the quality of a list of hits\"\"\"\n",
    "\n",
    "    goodhits = []\n",
    "\n",
    "    for hit in hits:\n",
    "        upper = slope1 * hit[0] + offset1\n",
    "        lower = slope2 * hit[0] + offset2\n",
    "\n",
    "        if lower < hit[1] < upper:\n",
    "            goodhits.append(hit)\n",
    "\n",
    "    return goodhits\n",
    "\n",
    "def makeDotplot(filename, hits):\n",
    "    \"\"\"generate a dotplot from a list of hits\n",
    "       filename may end in the following file extensions:\n",
    "         *.ps, *.png, *.jpg\n",
    "    \"\"\"\n",
    "    import matplotlib.pyplot as plt\n",
    "    x, y = zip(*hits)\n",
    "\n",
    "    slope1 = 1.0e6 / (825000 - 48000)\n",
    "    slope2 = 1.0e6 / (914000 - 141000)\n",
    "    offset1 = 0 - slope1*48000\n",
    "    offset2 = 0 - slope2*141000\n",
    "\n",
    "    hits2 = quality(hits, slope1, slope2, offset1, offset2)\n",
    "    print(\"%.5f%% hits on diagonal\" % (100 * len(hits2) / float(len(hits))))\n",
    "\n",
    "    x2 = [0, 1e6]\n",
    "    y2 = [offset1, slope1 * 1e6 + offset1]\n",
    "    y3 = [offset2, slope2 * 1e6 + offset2]\n",
    "\n",
    "    # create plot\n",
    "    plt.plot(x2, y2, 'b', x2, y3, 'g')\n",
    "    plt.scatter(x, y, s=1, c='r', edgecolors='none', marker=',')\n",
    "    plt.title(\"dotplot (%d hits, %.5f%% hits on diagonal)\" %\n",
    "              (len(hits), 100 * len(hits2) / float(len(hits))))\n",
    "    plt.xlabel(\"sequence 1\")\n",
    "    plt.ylabel(\"sequence 2\")\n",
    "    plt.xlim(x2)\n",
    "    plt.ylim(x2)\n",
    "    plt.tight_layout()\n",
    "\n",
    "    # output plot\n",
    "    plt.savefig(filename)"
   ]
  },
  {
   "cell_type": "code",
   "execution_count": 23,
   "metadata": {},
   "outputs": [],
   "source": [
    "def main(file1, file2, plotfile, kmerlen = 30, pattern = None):\n",
    "    '''\n",
    "    filen - path to fasta file\n",
    "    plotfile - output dotplot filename\n",
    "    kmerlen - length of kmers to find\n",
    "    pattern - modification parameters\n",
    "    '''\n",
    "    \n",
    "    \n",
    "    # read sequences\n",
    "    print(\"reading sequences\")\n",
    "    seq1 = readSeq(file1)\n",
    "    seq2 = readSeq(file2)\n",
    "\n",
    "    #\n",
    "    # You will need to modify the code below t0\n",
    "\n",
    "    # hash table for finding hits\n",
    "    lookup = defaultdict(list)\n",
    "\n",
    "    # store sequence hashes in hash table\n",
    "    print(\"hashing seq1...\")\n",
    "    for i in tqdm(range(len(seq1) - kmerlen + 1)):\n",
    "        key = seq1[i:i+kmerlen]\n",
    "        \n",
    "        if pattern:\n",
    "            n,start,mismatch = pattern\n",
    "            if mismatch:\n",
    "                #Implement mismatch allow\n",
    "                key = ''.join([char if (idx-(n-1))%n!=0 else '*' for idx,char in enumerate(key)])\n",
    "            else:\n",
    "                key = ''.join([char if (idx-start)%n==0 else '*' for idx,char in enumerate(key)])\n",
    "        \n",
    "        lookup[key].append(i)\n",
    "\n",
    "    # look up hashes in hash table\n",
    "    print(\"hashing seq2...\")\n",
    "    hits = []\n",
    "    for i in tqdm(range(len(seq2) - kmerlen + 1)):\n",
    "        key = seq2[i:i+kmerlen]\n",
    "        if pattern:\n",
    "            n,start,mismatch = pattern\n",
    "            if mismatch:\n",
    "                #Implement mismatch allow\n",
    "                key = ''.join([char if (idx-(n-1))%n!=0 else '*' for idx,char in enumerate(key)])\n",
    "            else:\n",
    "                key = ''.join([char if (idx-start)%n==0 else '*' for idx,char in enumerate(key)])\n",
    "\n",
    "        # store hits to hits list\n",
    "        for hit in lookup.get(key, []):\n",
    "            hits.append((i, hit))\n",
    "\n",
    "    # hits should be a list of tuples\n",
    "    # [(index1_in_seq2, index1_in_seq1),\n",
    "    #  (index2_in_seq2, index2_in_seq1),\n",
    "    #  ...]\n",
    "\n",
    "    print(\"%d hits found\" % len(hits))\n",
    "    print(\"making plot...\")\n",
    "\n",
    "    makeDotplot(plotfile, hits)"
   ]
  },
  {
   "cell_type": "code",
   "execution_count": 4,
   "metadata": {},
   "outputs": [],
   "source": [
    "f1 = './PS1_code/human-hoxa-region.fa'\n",
    "assert os.path.exists(f1)\n",
    "f2 = './PS1_code/mouse-hoxa-region.fa'\n",
    "assert os.path.exists(f2)\n",
    "output = './output_image.jpg'"
   ]
  },
  {
   "cell_type": "code",
   "execution_count": 28,
   "metadata": {},
   "outputs": [
    {
     "name": "stderr",
     "output_type": "stream",
     "text": [
      "  0%|          | 3481/1003128 [00:00<00:28, 34782.25it/s]"
     ]
    },
    {
     "name": "stdout",
     "output_type": "stream",
     "text": [
      "reading sequences\n",
      "hashing seq1...\n"
     ]
    },
    {
     "name": "stderr",
     "output_type": "stream",
     "text": [
      "100%|██████████| 1003128/1003128 [00:20<00:00, 49415.93it/s]\n",
      "  0%|          | 4669/1001826 [00:00<00:21, 46688.60it/s]"
     ]
    },
    {
     "name": "stdout",
     "output_type": "stream",
     "text": [
      "hashing seq2...\n"
     ]
    },
    {
     "name": "stderr",
     "output_type": "stream",
     "text": [
      "100%|██████████| 1001826/1001826 [00:19<00:00, 51140.58it/s]\n"
     ]
    },
    {
     "name": "stdout",
     "output_type": "stream",
     "text": [
      "2772 hits found\n",
      "making plot...\n",
      "100.00000% hits on diagonal\n"
     ]
    },
    {
     "data": {
      "image/png": "[encoded data removed]",
      "text/plain": [
       "<Figure size 432x288 with 1 Axes>"
      ]
     },
     "metadata": {
      "needs_background": "light"
     },
     "output_type": "display_data"
    }
   ],
   "source": [
    "main(f1, f2, output, kmerlen=100, pattern=(3,0,True))"
   ]
  },
  {
   "cell_type": "markdown",
   "metadata": {},
   "source": [
    "i. Modify the script to find all exact matching 100-mers </br>\n",
    "ii. Modify the script to find all 60-mers that match every other base </br>\n",
    "iii. Modify the script to find all 90-mers that match every third base </br>\n",
    "iv. Modify the script to find all 120-mers that match every fourth base </br>\n",
    "v. Modify the script to find all 100-mers that allow a mismatch every third base </br>\n"
   ]
  },
  {
   "cell_type": "code",
   "execution_count": 19,
   "metadata": {},
   "outputs": [],
   "source": [
    "\n",
    "    \n",
    "    "
   ]
  },
  {
   "cell_type": "code",
   "execution_count": 8,
   "metadata": {},
   "outputs": [
    {
     "data": {
      "text/plain": [
       "'abcd*fghi*klm'"
      ]
     },
     "execution_count": 8,
     "metadata": {},
     "output_type": "execute_result"
    }
   ],
   "source": [
    "x = 'abcdefghijklm'\n",
    "n = 5\n",
    "start = n-1\n",
    "\n",
    "\n",
    "''.join([char if (idx-start)%n!=0 else '*' for idx,char in enumerate(x)])"
   ]
  },
  {
   "cell_type": "code",
   "execution_count": 22,
   "metadata": {},
   "outputs": [
    {
     "data": {
      "text/plain": [
       "'ab*de*gh*jk*m'"
      ]
     },
     "execution_count": 22,
     "metadata": {},
     "output_type": "execute_result"
    }
   ],
   "source": [
    "x = 'abcdefghijklm'\n",
    "n = 3\n",
    "start = n-1\n",
    "''.join([c if (i-start)%n!=0 else '*' for i,c in enumerate(x)])"
   ]
  },
  {
   "cell_type": "code",
   "execution_count": null,
   "metadata": {},
   "outputs": [],
   "source": []
  }
 ],
 "metadata": {
  "kernelspec": {
   "display_name": "Python 3",
   "language": "python",
   "name": "python3"
  },
  "language_info": {
   "codemirror_mode": {
    "name": "ipython",
    "version": 3
   },
   "file_extension": ".py",
   "mimetype": "text/x-python",
   "name": "python",
   "nbconvert_exporter": "python",
   "pygments_lexer": "ipython3",
   "version": "3.6.7"
  }
 },
 "nbformat": 4,
 "nbformat_minor": 4
}
